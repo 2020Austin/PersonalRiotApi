{
 "cells": [
  {
   "cell_type": "code",
   "execution_count": 2,
   "id": "514e1b91",
   "metadata": {},
   "outputs": [],
   "source": [
    "import requests\n"
   ]
  },
  {
   "cell_type": "code",
   "execution_count": 3,
   "id": "102d92b0",
   "metadata": {},
   "outputs": [],
   "source": [
    "current_key = \"RGAPI-74f1bb01-222a-4841-b61d-4980dbcf0f3b\""
   ]
  },
  {
   "cell_type": "code",
   "execution_count": 4,
   "id": "8f4b1e46",
   "metadata": {},
   "outputs": [],
   "source": [
    "#Request Summoner info\n",
    "player_name = \"Piece of Cabbage\"\n",
    "\n",
    "api_url = \"https://na1.api.riotgames.com/lol/summoner/v4/summoners/by-name/\" + player_name + \"?api_key=\" + current_key\n",
    "riot_response = requests.get(api_url)\n",
    "\n",
    "json_response = riot_response.json()\n"
   ]
  },
  {
   "cell_type": "code",
   "execution_count": 5,
   "id": "b3975f95",
   "metadata": {},
   "outputs": [
    {
     "name": "stdout",
     "output_type": "stream",
     "text": [
      "{\"id\":\"cjgOFyA_ETq1DMXkSQmndkSvfLCxKJJDCoojTeL2l6lwp8s\",\"accountId\":\"lN6IGuGczHnekzSeTAc6fguiJAHXbe4Ot28NgwepEOz0X0M\",\"puuid\":\"gbjXsMApIiTKG6eP-5Ew7AUlb9QJn5ophQxc3Tws0syQblMr3HW52Hjt0K8dIGKDcmbDiFMmrhPSOw\",\"name\":\"Piece of cabbage\",\"profileIconId\":4904,\"revisionDate\":1627977442508,\"summonerLevel\":188}\n"
     ]
    }
   ],
   "source": [
    "print(riot_response.text)"
   ]
  },
  {
   "cell_type": "code",
   "execution_count": 7,
   "id": "a5c4e64f",
   "metadata": {},
   "outputs": [
    {
     "name": "stdout",
     "output_type": "stream",
     "text": [
      "cjgOFyA_ETq1DMXkSQmndkSvfLCxKJJDCoojTeL2l6lwp8s\n",
      "Piece of cabbage\n"
     ]
    }
   ],
   "source": [
    "id = json_response['id']\n",
    "print(id)\n",
    "print(json_response['name'])"
   ]
  },
  {
   "cell_type": "code",
   "execution_count": null,
   "id": "e0d2517d",
   "metadata": {},
   "outputs": [],
   "source": []
  }
 ],
 "metadata": {
  "kernelspec": {
   "display_name": "Python 3",
   "language": "python",
   "name": "python3"
  },
  "language_info": {
   "codemirror_mode": {
    "name": "ipython",
    "version": 3
   },
   "file_extension": ".py",
   "mimetype": "text/x-python",
   "name": "python",
   "nbconvert_exporter": "python",
   "pygments_lexer": "ipython3",
   "version": "3.8.11"
  }
 },
 "nbformat": 4,
 "nbformat_minor": 5
}
